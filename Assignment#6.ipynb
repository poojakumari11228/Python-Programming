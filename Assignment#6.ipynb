{
 "cells": [
  {
   "cell_type": "markdown",
   "metadata": {},
   "source": [
    "### Question#1: Define Object Oriented Programming Language? \n",
    "\n",
    "Object Oriented Programming Language also known as OOP and it is a programming language Paradigm. In Object-oriented program, code can be structured as reusable components, some of which may share properties or behaviors.In OOP everything is defined in the form of classes and objects.\n",
    "Object-oriented programming can improve the developer's ability to quickly prototype software, extend existing functionality, refactor the code, and maintain it as it's developed.\n",
    "\n",
    "<b>An object-oriented programming language) is a programming language that is based on the object-oriented programming model which is given below:</b>\n",
    "\n",
    "1. <b>Encapsulation:</b>\n",
    "The grouping of related functions and data (variables) together into an object to help reduce complexity and allow parts of the code to be reused.\n",
    "2. <b>Abstraction:</b>\n",
    "Show only the essentials to reduce the abstract of change.\n",
    "3. <b>Inheritance:</b>\n",
    "Eliminate redundant code by inheriting functions and data from other classes.\n",
    "4. <b>Polymorphism:</b>\n",
    "Change how an object function depending on the data or class."
   ]
  },
  {
   "cell_type": "markdown",
   "metadata": {},
   "source": [
    "### Question#2: List down the Benefits of OOP?\n",
    "\n",
    "1. Modularity for easier troubleshooting.\n",
    "2. Reuse of code through inheritance.\n",
    "3. Flexibility through polymorphism.\n",
    "4. Effective problem solving."
   ]
  },
  {
   "cell_type": "markdown",
   "metadata": {},
   "source": [
    "### Question#3: Differentiate between function and method?\n",
    "\n",
    "- Function and Method both look similar as they perform in almost similar way, but the key difference is the concept of \"Class and its Object\".\n",
    "- Functions can be called only by its name, as it is defined independently. But methods can’t be called by its name only, we need to invoke the class by a reference of that class in which it is defined, i.e. method is defined within a class and hence they are dependent on that class.\n",
    "- Functions do not have any reference variables but methods are called by reference variables."
   ]
  },
  {
   "cell_type": "markdown",
   "metadata": {},
   "source": [
    "### Question#4: Define the following terms:\n",
    "1. Class\n",
    "2. Object\n",
    "3. Attribute\n",
    "4. Behavior\n",
    "\n",
    "<b>1. Class: </b>\n",
    "A category of objects. The class defines all the common properties of the different objects that belong to it.<br>\n",
    "<b>2. Object: </b>\n",
    "Object is a self-contained entity that consists of both data and procedures to manipulate the data.<br>\n",
    "<b>3. Attribute: </b>\n",
    "Attributes are the individual things that differentiate one object from another and determine the appearance, state, or other qualities of that object. An instance variable defines the attributes of the object. Instance variables' types and names are defined in the class, but their values are set and changed in the object.<br>\n",
    "<b>4. Behavior: </b>\n",
    "Behaviors are the tasks that an object performs. A class's behavior determines how an instance of that class operates; for example, how it will \"react\" if asked to do something by another class or object or if its internal state changes. Behavior is the only way objects can do anything to themselves or have anything done to them."
   ]
  },
  {
   "cell_type": "code",
   "execution_count": 4,
   "metadata": {},
   "outputs": [
    {
     "name": "stdout",
     "output_type": "stream",
     "text": [
      "Car name is carola\n",
      "Mehran car is starting.\n",
      "\n",
      "## ATTRIBUTES ##\n",
      "model 2018\n",
      "color Red\n",
      "name BRV\n",
      "fuel 133\n",
      "maxSpeed 100\n"
     ]
    }
   ],
   "source": [
    "# car class\n",
    "class Car:\n",
    "\n",
    "    # 5 attributes\n",
    "    model=''\n",
    "    color=''\n",
    "    name=''\n",
    "    fuel=0\n",
    "    maxSpeed=0\n",
    "\n",
    "    def __init__(self,model, color, name, fuel, maxSpeed):\n",
    "        self.model = model\n",
    "        self.color = color\n",
    "        self.name = name\n",
    "        self.fuel = fuel\n",
    "        self.maxSpeed = maxSpeed\n",
    "\n",
    "    # 3 methods\n",
    "    def start(self):\n",
    "        print(self.name + ' car is starting.')\n",
    "\n",
    "    def accelerate(self, changeSpeed):\n",
    "        print(self.name + ' car of '+self.color +\" color is accelerating to \"+changeSpeed+ \" Speed\")\n",
    "\n",
    "    def getattributes(self):\n",
    "        print('\\n## ATTRIBUTES ##\\nmodel '+self.model +'\\ncolor '+self.color+'\\nname '+self.name+'\\nfuel '+str(self.fuel)+'\\nmaxSpeed '+str(self.maxSpeed))\n",
    "\n",
    "\n",
    "c1 = Car('2015', 'white', 'carola', 123, 50)\n",
    "c2 = Car('2016', 'Black', 'Mehran', 323, 60)\n",
    "c3 = Car('2017', 'Blue', 'BMW', 233, 90)\n",
    "c4 = Car('2018', 'Red', 'BRV', 133, 100)\n",
    "c5 = Car('2019', 'Gray', 'Vitz', 130, 120)\n",
    "\n",
    "print('Car name is '+c1.name)\n",
    "c2.start()\n",
    "c4.getattributes()"
   ]
  }
 ],
 "metadata": {
  "kernelspec": {
   "display_name": "Python 3",
   "language": "python",
   "name": "python3"
  },
  "language_info": {
   "codemirror_mode": {
    "name": "ipython",
    "version": 3
   },
   "file_extension": ".py",
   "mimetype": "text/x-python",
   "name": "python",
   "nbconvert_exporter": "python",
   "pygments_lexer": "ipython3",
   "version": "3.7.0"
  }
 },
 "nbformat": 4,
 "nbformat_minor": 2
}
