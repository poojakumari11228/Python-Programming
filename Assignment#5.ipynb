{
 "cells": [
  {
   "cell_type": "code",
   "execution_count": 13,
   "metadata": {},
   "outputs": [
    {
     "name": "stdout",
     "output_type": "stream",
     "text": [
      "Enter Any Number: 12\n",
      "12  factorial is:  479001600\n"
     ]
    }
   ],
   "source": [
    "# FACTORIAL\n",
    "def fact(number):\n",
    "    if number==1 or number==0:\n",
    "        return 1\n",
    "    elif number>1:\n",
    "        ans=number*fact(number-1)\n",
    "        return ans\n",
    "    else:\n",
    "        print(\"Please! try positive number.\")\n",
    "        \n",
    "num = int(input(\"Enter Any Number: \"))\n",
    "print(num,\" factorial is: \",fact(num))"
   ]
  },
  {
   "cell_type": "code",
   "execution_count": 5,
   "metadata": {},
   "outputs": [
    {
     "name": "stdout",
     "output_type": "stream",
     "text": [
      "Enter The String: Madam\n",
      "String Is Palindrome!\n"
     ]
    }
   ],
   "source": [
    "# Funtion To check string is palindrome or Not!\n",
    "def isPalindrome(string):\n",
    "    left_pos = 0\n",
    "    right_pos = len(string) - 1\n",
    "\n",
    "    while right_pos >= left_pos:\n",
    "        if not string[left_pos] == string[right_pos]:\n",
    "            return \"String Is Not Palindrome!\"\n",
    "        left_pos += 1\n",
    "        right_pos -= 1\n",
    "    return \"String Is Palindrome!\"\n",
    "\n",
    "# Take Input from user!\n",
    "text=input(\"Enter The String: \")\n",
    "\n",
    "#convert text to lower case!\n",
    "text=text.lower()\n",
    "\n",
    "# Call Function to check the string!\n",
    "print(isPalindrome(text)) "
   ]
  },
  {
   "cell_type": "code",
   "execution_count": 14,
   "metadata": {},
   "outputs": [
    {
     "name": "stdout",
     "output_type": "stream",
     "text": [
      "Enter String : Bhagia Sheri\n",
      "Upper: 3 Lower: 9 \n"
     ]
    }
   ],
   "source": [
    "# calculate uper / lower case letters!\n",
    "data = input(\"Enter String : \")\n",
    "upper=0\n",
    "lower=0\n",
    "for x in data:\n",
    "    if x.islower():\n",
    "        lower+=1\n",
    "    else:\n",
    "        upper+=1\n",
    "\n",
    "print(\"Upper: %d Lower: %d \"%(upper,lower))"
   ]
  },
  {
   "cell_type": "code",
   "execution_count": 2,
   "metadata": {},
   "outputs": [
    {
     "name": "stdout",
     "output_type": "stream",
     "text": [
      "Enter Any Number: 47\n",
      "47  is a Prime Number!\n"
     ]
    }
   ],
   "source": [
    "# A prime number is a positive integer with only two factors: itself and one.\n",
    "def test_prime(num):\n",
    "    if (num==1):\n",
    "        return \" is not a Prime Number!\"\n",
    "    elif (num==2):\n",
    "        return \" is a Prime Number!\"\n",
    "    else:\n",
    "        for i in range(2,num):\n",
    "            if(num % i==0):\n",
    "                return \" is not a Prime Number!\"\n",
    "        return \" is a Prime Number!\" \n",
    "\n",
    "# Input from user!\n",
    "num = int(input(\"Enter Any Number: \"))\n",
    "# call function to check no. is prime or not!\n",
    "print(num,test_prime(num))"
   ]
  },
  {
   "cell_type": "code",
   "execution_count": 17,
   "metadata": {},
   "outputs": [
    {
     "name": "stdout",
     "output_type": "stream",
     "text": [
      "Even Numbers Are:\n",
      "4\n",
      "6\n",
      "2\n",
      "12\n"
     ]
    }
   ],
   "source": [
    "# Print event numbers from list\n",
    "mylist = [1,4,6,9,3,2,7,12]\n",
    "\n",
    "print(\"Even Numbers Are:\")\n",
    "for x in mylist:\n",
    "    if x%2==0:\n",
    "        print(x)"
   ]
  },
  {
   "cell_type": "code",
   "execution_count": 3,
   "metadata": {},
   "outputs": [
    {
     "name": "stdout",
     "output_type": "stream",
     "text": [
      "Enter the items you bought from market!!! \n",
      "If you want to leave enter'done'!!!\n",
      "\n",
      "Enter the item you bought from market:cake\n",
      "Enter the item you bought from market:1-kg banana\n",
      "Enter the item you bought from market:12-eggs\n",
      "Enter the item you bought from market:rice\n",
      "Enter the item you bought from market:bread\n",
      "Enter the item you bought from market:apples\n",
      "Enter the item you bought from market:coke\n",
      "Enter the item you bought from market:done\n",
      "\n",
      "--------- Shopping List --------\n",
      "You bought: \n",
      " ['cake', '1-kg banana', '12-eggs', 'rice', 'bread', 'apples', 'coke']\n"
     ]
    }
   ],
   "source": [
    "# Funtion for printing customer shopping list (using arbitrary argument)!\n",
    "def customer_shopping(*shopping_list):\n",
    "    print(\"\\n--------- Shopping List --------\")    \n",
    "    for element in shopping_list:\n",
    "        print(\"You bought: \\n\",element)\n",
    "\n",
    "shopping_list = []\n",
    "\n",
    "print(\"Enter the items you bought from market!!! \\nIf you want to leave enter'done'!!!\\n\")\n",
    "\n",
    "while True:\n",
    "    items = input(\"Enter the item you bought from market:\")\n",
    "    if items == 'done':\n",
    "        break\n",
    "    shopping_list.append(items)\n",
    "    \n",
    "# Call Function!\n",
    "customer_shopping(shopping_list)"
   ]
  }
 ],
 "metadata": {
  "kernelspec": {
   "display_name": "Python 3",
   "language": "python",
   "name": "python3"
  },
  "language_info": {
   "codemirror_mode": {
    "name": "ipython",
    "version": 3
   },
   "file_extension": ".py",
   "mimetype": "text/x-python",
   "name": "python",
   "nbconvert_exporter": "python",
   "pygments_lexer": "ipython3",
   "version": "3.7.4"
  }
 },
 "nbformat": 4,
 "nbformat_minor": 2
}
