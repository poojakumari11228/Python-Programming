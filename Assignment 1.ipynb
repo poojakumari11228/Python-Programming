{
 "cells": [
  {
   "cell_type": "code",
   "execution_count": 1,
   "metadata": {
    "scrolled": true
   },
   "outputs": [
    {
     "ename": "SyntaxError",
     "evalue": "EOL while scanning string literal (<ipython-input-1-333f0dba8088>, line 1)",
     "output_type": "error",
     "traceback": [
      "\u001b[1;36m  File \u001b[1;32m\"<ipython-input-1-333f0dba8088>\"\u001b[1;36m, line \u001b[1;32m1\u001b[0m\n\u001b[1;33m    print(\"Twinkle, twinkle, little star, \\n \\t How I wonder what you are! \\n \\t Up above the world so high, \\n\u001b[0m\n\u001b[1;37m                                                                                                               ^\u001b[0m\n\u001b[1;31mSyntaxError\u001b[0m\u001b[1;31m:\u001b[0m EOL while scanning string literal\n"
     ]
    }
   ],
   "source": [
    "print(\"Twinkle, twinkle, little star, \\n \\t How I wonder what you are! \\n \\t Up above the world so high, \\n\n",
    "\\t \\t Like a diamond in the sky. \\n Twinkle, twinkle, little star, \\n \\t How I wonder what you are\")\n"
   ]
  },
  {
   "cell_type": "code",
   "execution_count": 2,
   "metadata": {},
   "outputs": [
    {
     "name": "stdout",
     "output_type": "stream",
     "text": [
      "Twinkle, twinkle, little star, \n",
      " \t How I wonder what you are! \n",
      " \t \t Up above the world so high,\n",
      " \t \t Like a diamond in the sky.\n",
      " Twinkle, twinkle, little star, \n",
      " \t How I wonder what you are\n"
     ]
    }
   ],
   "source": [
    "print(\"Twinkle, twinkle, little star, \\n \\t How I wonder what you are! \\n \\t \\t Up above the world so high,\\n \\t \\t Like a diamond in the sky.\\n Twinkle, twinkle, little star, \\n \\t How I wonder what you are\")"
   ]
  },
  {
   "cell_type": "code",
   "execution_count": 3,
   "metadata": {},
   "outputs": [
    {
     "data": {
      "text/plain": [
       "'3.7.4 (default, Aug  9 2019, 18:34:13) [MSC v.1915 64 bit (AMD64)]'"
      ]
     },
     "execution_count": 3,
     "metadata": {},
     "output_type": "execute_result"
    }
   ],
   "source": [
    "import sys\n",
    "sys.version"
   ]
  },
  {
   "cell_type": "code",
   "execution_count": 4,
   "metadata": {},
   "outputs": [
    {
     "ename": "SyntaxError",
     "evalue": "invalid syntax (<ipython-input-4-a7c38e44a68e>, line 5)",
     "output_type": "error",
     "traceback": [
      "\u001b[1;36m  File \u001b[1;32m\"<ipython-input-4-a7c38e44a68e>\"\u001b[1;36m, line \u001b[1;32m5\u001b[0m\n\u001b[1;33m    print(\"Time =\", current_time)nt Time =\", current_time)\u001b[0m\n\u001b[1;37m                                  ^\u001b[0m\n\u001b[1;31mSyntaxError\u001b[0m\u001b[1;31m:\u001b[0m invalid syntax\n"
     ]
    }
   ],
   "source": [
    "# import datetime\n",
    "from datetime import datetime\n",
    "# get the current time and format it in H:M:S pattern\n",
    "current_time = datetime.now().strftime(\"%H:%M:%S\")\n",
    "print(\"Time =\", current_time)nt Time =\", current_time)"
   ]
  },
  {
   "cell_type": "code",
   "execution_count": 5,
   "metadata": {},
   "outputs": [
    {
     "name": "stdout",
     "output_type": "stream",
     "text": [
      "Date = 2019-11-05\n",
      "Time = 00:35:31\n"
     ]
    }
   ],
   "source": [
    "# import datetime\n",
    "from datetime import datetime, date\n",
    "# get the current time and format it in H:M:S pattern\n",
    "current_time = datetime.now().strftime(\"%H:%M:%S\")\n",
    "print(\"Date =\",date.today())\n",
    "print(\"Time =\", current_time)"
   ]
  },
  {
   "cell_type": "code",
   "execution_count": 6,
   "metadata": {},
   "outputs": [
    {
     "name": "stdout",
     "output_type": "stream",
     "text": [
      "Enter radius of circle20\n",
      "1256.6370614359173\n"
     ]
    }
   ],
   "source": [
    "import math\n",
    "radius = int(input(\"Enter radius of circle\"))\n",
    "area = math.pi*radius*radius\n",
    "print(area)"
   ]
  },
  {
   "cell_type": "code",
   "execution_count": 7,
   "metadata": {},
   "outputs": [
    {
     "name": "stdout",
     "output_type": "stream",
     "text": [
      "Enter yoyr 1st namepooja\n",
      "Enter yoyr last namekumari\n",
      "ajoop   iramuk\n"
     ]
    }
   ],
   "source": [
    "\n",
    "first_name = input(\"Enter yoyr 1st name\")\n",
    "last_name = input(\"Enter yoyr last name\")\n",
    "# reverse first name\n",
    "first_name = first_name[::-1]\n",
    "# reverse last name\n",
    "last_name = last_name[::-1]\n",
    "print(first_name,' ',last_name)"
   ]
  },
  {
   "cell_type": "code",
   "execution_count": 8,
   "metadata": {},
   "outputs": [
    {
     "name": "stdout",
     "output_type": "stream",
     "text": [
      "Enter yoyr 1st namepooja\n",
      "Enter yoyr last namekumari\n",
      "iramuk   ajoop\n"
     ]
    }
   ],
   "source": [
    "\n",
    "first_name = input(\"Enter yoyr 1st name\")\n",
    "last_name = input(\"Enter yoyr last name\")\n",
    "# reverse first name\n",
    "first_name = first_name[::-1]\n",
    "# reverse last name\n",
    "last_name = last_name[::-1]\n",
    "print(last_name,' ',first_name)"
   ]
  },
  {
   "cell_type": "code",
   "execution_count": 9,
   "metadata": {},
   "outputs": [
    {
     "name": "stdout",
     "output_type": "stream",
     "text": [
      "Enter 1st number600\n",
      "Enter 2ndt number400\n",
      "1000\n"
     ]
    }
   ],
   "source": [
    "first = int(input(\"Enter 1st number\"))\n",
    "second = int(input(\"Enter 2ndt number\"))\n",
    "print(first+second)"
   ]
  },
  {
   "cell_type": "code",
   "execution_count": null,
   "metadata": {},
   "outputs": [],
   "source": []
  }
 ],
 "metadata": {
  "kernelspec": {
   "display_name": "Python 3",
   "language": "python",
   "name": "python3"
  },
  "language_info": {
   "codemirror_mode": {
    "name": "ipython",
    "version": 3
   },
   "file_extension": ".py",
   "mimetype": "text/x-python",
   "name": "python",
   "nbconvert_exporter": "python",
   "pygments_lexer": "ipython3",
   "version": "3.7.4"
  }
 },
 "nbformat": 4,
 "nbformat_minor": 2
}
