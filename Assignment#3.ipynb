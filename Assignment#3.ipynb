{
 "cells": [
  {
   "cell_type": "code",
   "execution_count": 1,
   "metadata": {},
   "outputs": [
    {
     "name": "stdout",
     "output_type": "stream",
     "text": [
      "Select operation you wan to perform \n",
      " 1. Addition \n",
      " 2. Substraction \n",
      " 3. Multiplication \n",
      " 4. Division \n",
      " 5. Power \n",
      "5\n",
      "Enter first value \n",
      "4\n",
      "Enter second value \n",
      "2\n",
      "16.0\n"
     ]
    }
   ],
   "source": [
    "# Task 1\n",
    "\n",
    "# addition\n",
    "def add(a,b):\n",
    "    return a+b\n",
    "\n",
    "# substraction\n",
    "def sub(a,b):\n",
    "    return a-b\n",
    "\n",
    "# multiplication\n",
    "def multi(a,b):\n",
    "    return a*b\n",
    "\n",
    "# Division\n",
    "def div(a,b):\n",
    "    return a*b\n",
    "\n",
    "# power\n",
    "def pow(a,b):\n",
    "    return a**b\n",
    "\n",
    "operation = int(input('Select operation you wan to perform \\n 1. Addition \\n 2. Substraction \\n 3. Multiplication \\n 4. Division \\n 5. Power \\n'))\n",
    "a = float(input('Enter first value \\n'))\n",
    "b = float(input('Enter second value \\n'))\n",
    "\n",
    "if operation == 1:\n",
    "    print(add(a,b))\n",
    "if operation == 2:\n",
    "    print(sub(a,b))\n",
    "if operation == 3:\n",
    "    print(multi(a,b))\n",
    "if operation == 4:\n",
    "    print(div(a,b))\n",
    "if operation == 5:\n",
    "    print(pow(a,b))\n",
    "    "
   ]
  },
  {
   "cell_type": "code",
   "execution_count": 2,
   "metadata": {},
   "outputs": [
    {
     "name": "stdout",
     "output_type": "stream",
     "text": [
      "True shows numeric exist \n",
      "\n",
      "False\n",
      "False\n",
      "False\n",
      "True\n",
      "False\n"
     ]
    }
   ],
   "source": [
    "# Task 2\n",
    "\n",
    "my_list = ['p','r','o','1','e']\n",
    "print('True shows numeric exist \\n')\n",
    "for x in my_list:\n",
    "    print(x.isnumeric())"
   ]
  },
  {
   "cell_type": "code",
   "execution_count": 3,
   "metadata": {},
   "outputs": [
    {
     "name": "stdout",
     "output_type": "stream",
     "text": [
      "{'0': 'java', '1': 'javascript', '2': 'python', '3': 'php'}\n",
      "{'0': 'java', '1': 'javascript', '2': 'python', '3': 'php', '4': '.Net'}\n"
     ]
    }
   ],
   "source": [
    "# Task 3\n",
    "\n",
    "my_dic = {'0':'java', '1':'javascript','2':'python','3':'php'}\n",
    "print(my_dic)\n",
    "# adding new key\n",
    "my_dic['4']='.Net'\n",
    "print(my_dic)"
   ]
  },
  {
   "cell_type": "code",
   "execution_count": 4,
   "metadata": {},
   "outputs": [
    {
     "name": "stdout",
     "output_type": "stream",
     "text": [
      "duplicates are:  ['r', '1']\n"
     ]
    }
   ],
   "source": [
    "# Task 5\n",
    "\n",
    "my_list = ['p','r','o','1','e','1','r']\n",
    "li = my_list.copy()\n",
    "for x in set(li):\n",
    "    li.remove(x)\n",
    "li = list(set(li))\n",
    "print('duplicates are: ',li)"
   ]
  },
  {
   "cell_type": "code",
   "execution_count": 5,
   "metadata": {},
   "outputs": [
    {
     "name": "stdout",
     "output_type": "stream",
     "text": [
      "{'0': 'java', '1': 'javascript', '2': 'python', '3': 'php'}\n",
      "enter key you want to check2\n",
      "The entered key exist.\n"
     ]
    }
   ],
   "source": [
    "# Task 6\n",
    "my_dic = {'0':'java', '1':'javascript','2':'python','3':'php'}\n",
    "print(my_dic)\n",
    "check_key = input('enter key you want to check')\n",
    "\n",
    "if check_key in my_dic:\n",
    "    print('The entered key exist.')\n",
    "else:\n",
    "    print('This entered key does not exist.')"
   ]
  },
  {
   "cell_type": "code",
   "execution_count": 1,
   "metadata": {},
   "outputs": [
    {
     "name": "stdout",
     "output_type": "stream",
     "text": [
      "Dictionary Sum is: 1929\n"
     ]
    }
   ],
   "source": [
    "# Task 4\n",
    "\n",
    "dictionary = {'a': 170, 'b':290, 'c':393, 'd':299, 'e':777} \n",
    "\n",
    "# Function to print sum \n",
    "def returnDictionarySum(dictionary): \n",
    "    sum = 0\n",
    "    for i in dictionary.values(): \n",
    "           sum = sum + i \n",
    "    return sum\n",
    " \n",
    "#Call the function for dictionay sum\n",
    "print(\"Dictionary Sum is:\", returnDictionarySum(dictionary))"
   ]
  },
  {
   "cell_type": "code",
   "execution_count": null,
   "metadata": {},
   "outputs": [],
   "source": []
  }
 ],
 "metadata": {
  "kernelspec": {
   "display_name": "Python 3",
   "language": "python",
   "name": "python3"
  },
  "language_info": {
   "codemirror_mode": {
    "name": "ipython",
    "version": 3
   },
   "file_extension": ".py",
   "mimetype": "text/x-python",
   "name": "python",
   "nbconvert_exporter": "python",
   "pygments_lexer": "ipython3",
   "version": "3.7.4"
  }
 },
 "nbformat": 4,
 "nbformat_minor": 2
}
