{
 "cells": [
  {
   "cell_type": "code",
   "execution_count": 1,
   "metadata": {},
   "outputs": [
    {
     "name": "stdout",
     "output_type": "stream",
     "text": [
      "{'first_name,': 'Abc', 'last_name,': 'Xyz', 'age,': '20', 'city.': 'Hyderabad'}\n",
      "{'first_name,': 'Abc', 'last_name,': 'Xyz', 'age,': '20', 'city.': 'Hyderabad', 'qualification': 'undergraduate'}\n",
      "{'first_name,': 'Abc', 'last_name,': 'Xyz', 'age,': '20', 'city.': 'Hyderabad', 'qualification': 'graduated'}\n",
      "{'first_name,': 'Abc', 'last_name,': 'Xyz', 'age,': '20', 'city.': 'Hyderabad'}\n"
     ]
    }
   ],
   "source": [
    "my_dic = {'first_name,':'Abc', 'last_name,':'Xyz','age,':'20','city.':'Hyderabad'}\n",
    "print(my_dic)\n",
    "my_dic['qualification']='undergraduate'\n",
    "print(my_dic)\n",
    "my_dic['qualification']='graduated'\n",
    "print(my_dic)\n",
    "del my_dic['qualification']\n",
    "print(my_dic)\n"
   ]
  },
  {
   "cell_type": "code",
   "execution_count": 2,
   "metadata": {},
   "outputs": [
    {
     "name": "stdout",
     "output_type": "stream",
     "text": [
      "Hyderabad {'country': 'Pakistan', 'populaion': '1.733 million', 'fact': 'Hyderabad is now an important commercial and cultural center'}\n",
      "Karachi {'country': 'Pakistan', 'populaion': '14.91 million', 'fact': 'capital city of Sindh Province'}\n",
      "Islamabad {'country': 'Pakistan', 'populaion': '1.015 million', 'fact': 'Islamabad is noted for its high standards of living, safety, and abundant greenery'}\n"
     ]
    }
   ],
   "source": [
    "cities={\n",
    "  'Hyderabad':{\n",
    "      'country':'Pakistan', 'populaion':'1.733 million','fact':'Hyderabad is now an important commercial and cultural center'\n",
    "  }  ,\n",
    "    'Karachi':{\n",
    "      'country':'Pakistan', 'populaion':'14.91 million','fact':'capital city of Sindh Province'\n",
    "  }  ,\n",
    "    'Islamabad':{\n",
    "      'country':'Pakistan', 'populaion':'1.015 million','fact':'Islamabad is noted for its high standards of living, safety, and abundant greenery'\n",
    "  }  \n",
    "}\n",
    "\n",
    "for key, value in cities.items() :\n",
    "    print (key, value)"
   ]
  },
  {
   "cell_type": "code",
   "execution_count": 1,
   "metadata": {},
   "outputs": [
    {
     "name": "stdout",
     "output_type": "stream",
     "text": [
      "Enter your age2\n",
      "the ticket is free\n",
      "Want to check next(y/n)y\n",
      "Enter your age3\n",
      "the ticket is $10\n",
      "Want to check next(y/n)y\n",
      "Enter your age12\n",
      "the ticket is $10\n",
      "Want to check next(y/n)y\n",
      "Enter your age55\n",
      "the ticket is $15\n",
      "Want to check next(y/n)n\n"
     ]
    }
   ],
   "source": [
    "check = True\n",
    "while check:\n",
    "    age= int(input('Enter your age'))\n",
    "    if age<3:\n",
    "        print('the ticket is free')\n",
    "    elif age>=3 and  age<=12:\n",
    "        print('the ticket is $10')\n",
    "    elif age>12:\n",
    "        print('the ticket is $15')\n",
    "    \n",
    "    option = input('Want to check next(y/n)')\n",
    "    if option=='n':\n",
    "        check=False"
   ]
  },
  {
   "cell_type": "code",
   "execution_count": 2,
   "metadata": {},
   "outputs": [
    {
     "name": "stdout",
     "output_type": "stream",
     "text": [
      "One of my favorite books is  Alice in Wonderland.\n"
     ]
    }
   ],
   "source": [
    "# make function\n",
    "def favorite_book(title):\n",
    "    print('One of my favorite books is ',title)\n",
    "#  call with parameter   \n",
    "favorite_book('Alice in Wonderland.')"
   ]
  },
  {
   "cell_type": "code",
   "execution_count": 2,
   "metadata": {},
   "outputs": [
    {
     "name": "stdout",
     "output_type": "stream",
     "text": [
      "guess the nmber 4\n",
      "Wrong! try again.hint:greater than  4\n",
      "guess the nmber 6\n",
      "Wrong! try again.hint:greater than  6\n",
      "guess the nmber 8\n",
      "Wrong! try again.hint:greater than  8\n",
      "Nice Try!   The random number is:  12  better luck next time\n"
     ]
    }
   ],
   "source": [
    "from random import randint\n",
    "rand_nmbr = randint(1,30)\n",
    "count=0\n",
    "while count<3:\n",
    "    guess = int(input('guess the nmber '))\n",
    "    if guess == rand_nmbr:\n",
    "        print('Correct! the number is ',rand_nmbr)\n",
    "    if rand_nmbr<guess :\n",
    "        print('Wrong! try again.hint:less than ',guess)\n",
    "    else:\n",
    "        print('Wrong! try again.hint:greater than ',guess)\n",
    "    count+=1\n",
    "print('Nice Try! ',' The random number is: ',rand_nmbr,' better luck next time')"
   ]
  },
  {
   "cell_type": "code",
   "execution_count": null,
   "metadata": {},
   "outputs": [],
   "source": []
  },
  {
   "cell_type": "code",
   "execution_count": null,
   "metadata": {},
   "outputs": [],
   "source": []
  }
 ],
 "metadata": {
  "kernelspec": {
   "display_name": "Python 3",
   "language": "python",
   "name": "python3"
  },
  "language_info": {
   "codemirror_mode": {
    "name": "ipython",
    "version": 3
   },
   "file_extension": ".py",
   "mimetype": "text/x-python",
   "name": "python",
   "nbconvert_exporter": "python",
   "pygments_lexer": "ipython3",
   "version": "3.7.4"
  }
 },
 "nbformat": 4,
 "nbformat_minor": 2
}
